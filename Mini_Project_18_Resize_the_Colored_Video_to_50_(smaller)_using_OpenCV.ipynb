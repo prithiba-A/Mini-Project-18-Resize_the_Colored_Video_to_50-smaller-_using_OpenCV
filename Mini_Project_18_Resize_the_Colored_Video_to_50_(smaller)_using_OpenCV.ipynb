{
  "nbformat": 4,
  "nbformat_minor": 0,
  "metadata": {
    "colab": {
      "provenance": [],
      "authorship_tag": "ABX9TyNv9kjbfVw5qW3h5EyleHPo",
      "include_colab_link": true
    },
    "kernelspec": {
      "name": "python3",
      "display_name": "Python 3"
    },
    "language_info": {
      "name": "python"
    }
  },
  "cells": [
    {
      "cell_type": "markdown",
      "metadata": {
        "id": "view-in-github",
        "colab_type": "text"
      },
      "source": [
        "<a href=\"https://colab.research.google.com/github/prithiba-A/Mini-Project-18-Resize_the_Colored_Video_to_50-smaller-_using_OpenCV/blob/main/Mini_Project_18_Resize_the_Colored_Video_to_50_(smaller)_using_OpenCV.ipynb\" target=\"_parent\"><img src=\"https://colab.research.google.com/assets/colab-badge.svg\" alt=\"Open In Colab\"/></a>"
      ]
    },
    {
      "cell_type": "code",
      "execution_count": 2,
      "metadata": {
        "colab": {
          "base_uri": "https://localhost:8080/"
        },
        "id": "PZki72-z0xTh",
        "outputId": "dcf3a3b8-61bd-42bc-a5c3-7d66ca01ba61"
      },
      "outputs": [
        {
          "output_type": "stream",
          "name": "stdout",
          "text": [
            "Original Video dimensions: 1920x1080\n",
            "Resized Video dimensions: 960x540\n"
          ]
        }
      ],
      "source": [
        "import cv2\n",
        "\n",
        "def resize_frame(frame):\n",
        "    # Get the current frame dimensions\n",
        "    height, width = frame.shape[:2]\n",
        "\n",
        "    # Calculate the new dimensions\n",
        "    new_width = int(width * 0.5)\n",
        "    new_height = int(height * 0.5)\n",
        "\n",
        "    # Resize the frame to the new dimensions\n",
        "    resized_frame = cv2.resize(frame, (new_width, new_height), interpolation=cv2.INTER_AREA)\n",
        "\n",
        "    return resized_frame\n",
        "\n",
        "\n",
        "input_file = '/content/Colored_video.mp4'\n",
        "output_file = '/content/Resized_Colored_video.mp4'\n",
        "\n",
        "# Open the input video file\n",
        "video = cv2.VideoCapture(input_file)\n",
        "\n",
        "# Get the video's width, height, and frames per second (fps)\n",
        "width = int(video.get(cv2.CAP_PROP_FRAME_WIDTH))\n",
        "height = int(video.get(cv2.CAP_PROP_FRAME_HEIGHT))\n",
        "fps = video.get(cv2.CAP_PROP_FPS)\n",
        "\n",
        "# Define the codec for the output video\n",
        "fourcc = cv2.VideoWriter_fourcc(*'mp4v')\n",
        "\n",
        "# Calculate the new dimensions for the resized video\n",
        "new_width = int(width * 0.5)\n",
        "new_height = int(height * 0.5)\n",
        "\n",
        "# Create a VideoWriter object to save the output video\n",
        "output = cv2.VideoWriter(output_file, fourcc, fps, (new_width, new_height), isColor=True)\n",
        "\n",
        "# Process each frame of the input video\n",
        "while video.isOpened():\n",
        "    # Read the current frame\n",
        "    ret, frame = video.read()\n",
        "\n",
        "    if ret:\n",
        "        # Resize the frame to 50% smaller\n",
        "        resized_frame = resize_frame(frame)\n",
        "\n",
        "        # Write the resized frame to the output video\n",
        "        output.write(resized_frame)\n",
        "\n",
        "        # Exit if the 'q' key is pressed\n",
        "        if cv2.waitKey(1) & 0xFF == ord('q'):\n",
        "            break\n",
        "    else:\n",
        "        break\n",
        "\n",
        "# Confirmation\n",
        "print(f\"Original Video dimensions: {width}x{height}\")\n",
        "print(f\"Resized Video dimensions: {new_width}x{new_height}\")"
      ]
    }
  ]
}